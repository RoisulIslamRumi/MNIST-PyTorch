{
  "nbformat": 4,
  "nbformat_minor": 0,
  "metadata": {
    "colab": {
      "name": "MNIST_custom_CNN.ipynb",
      "provenance": [],
      "collapsed_sections": [],
      "authorship_tag": "ABX9TyPHTmBu14/PwTNwkIr/4o20",
      "include_colab_link": true
    },
    "kernelspec": {
      "name": "python3",
      "display_name": "Python 3"
    },
    "language_info": {
      "name": "python"
    },
    "accelerator": "GPU"
  },
  "cells": [
    {
      "cell_type": "markdown",
      "metadata": {
        "id": "view-in-github",
        "colab_type": "text"
      },
      "source": [
        "<a href=\"https://colab.research.google.com/github/RoisulIslamRumi/MNIST-PyTorch/blob/main/MNIST_custom_CNN.ipynb\" target=\"_parent\"><img src=\"https://colab.research.google.com/assets/colab-badge.svg\" alt=\"Open In Colab\"/></a>"
      ]
    },
    {
      "cell_type": "markdown",
      "source": [
        "\n",
        "\n",
        "1.   List item\n",
        "2.   List item\n",
        "\n"
      ],
      "metadata": {
        "id": "QUeN1vUydVyt"
      }
    },
    {
      "cell_type": "markdown",
      "source": [
        "# Step 1: Load the MNIST dataset"
      ],
      "metadata": {
        "id": "sleAsA0mJo_7"
      }
    },
    {
      "cell_type": "code",
      "execution_count": 30,
      "metadata": {
        "id": "bFkpjFz_Ts3v"
      },
      "outputs": [],
      "source": [
        "import torch\n",
        "import torchvision.datasets as ds\n",
        "import torch.nn as nn\n",
        "import torch.nn.functional as F\n",
        "import torch.optim as optim\n",
        "from torchvision.transforms import ToTensor\n",
        "from torchsummary import summary"
      ]
    },
    {
      "cell_type": "code",
      "source": [
        "train = ds.MNIST(root='./data', train=True, download=True, transform=ToTensor())\n",
        "test = ds.MNIST(root='./data', train=False, download=True,transform=ToTensor())\n",
        "\n",
        "\n"
      ],
      "metadata": {
        "id": "0QM4C-hNVZ1U"
      },
      "execution_count": 31,
      "outputs": []
    },
    {
      "cell_type": "code",
      "source": [
        "print(train.data.size())\n",
        "print(test.data.size())\n",
        "print(\"Label size\", train.targets.size())"
      ],
      "metadata": {
        "colab": {
          "base_uri": "https://localhost:8080/"
        },
        "id": "scLGeGc5GK9O",
        "outputId": "60aad8fd-b923-4937-b56d-e45b4d303321"
      },
      "execution_count": 32,
      "outputs": [
        {
          "output_type": "stream",
          "name": "stdout",
          "text": [
            "torch.Size([60000, 28, 28])\n",
            "torch.Size([10000, 28, 28])\n",
            "Label size torch.Size([60000])\n"
          ]
        }
      ]
    },
    {
      "cell_type": "markdown",
      "source": [
        "# Step 2: Make the dataset iterable"
      ],
      "metadata": {
        "id": "ad65S9aLJoHC"
      }
    },
    {
      "cell_type": "code",
      "source": [
        "#Load Dataset into Dataloader\n",
        "batch_size = 60\n",
        "n_iters = len(train)/batch_size\n",
        "print(\"Number of iterations:\", n_iters)\n",
        "num_epochs = 5\n",
        "\n",
        "train_loader = torch.utils.data.DataLoader(dataset=train, batch_size=batch_size, shuffle=True)\n",
        "\n",
        "test_loader =torch.utils.data.DataLoader(dataset=test, batch_size=batch_size, shuffle=False)"
      ],
      "metadata": {
        "colab": {
          "base_uri": "https://localhost:8080/"
        },
        "id": "ort_p_jxKA19",
        "outputId": "3465183b-cf61-4232-b525-5939874366c6"
      },
      "execution_count": 33,
      "outputs": [
        {
          "output_type": "stream",
          "name": "stdout",
          "text": [
            "Number of iterations: 1000.0\n"
          ]
        }
      ]
    },
    {
      "cell_type": "code",
      "source": [
        "#define the class and initialize with all the layers\n",
        "class CustomCNN(nn.Module):\n",
        "    def __init__(self):\n",
        "        super(CustomCNN, self).__init__()\n",
        "\n",
        "        #conv1\n",
        "        self.conv1 = nn.Conv2d(in_channels=1,out_channels=16,kernel_size=5,stride=1,padding=2)\n",
        "        self.relu1 = nn.PReLU()\n",
        "        #Maxpool1\n",
        "        self.maxpool1 = nn.MaxPool2d(kernel_size=2)\n",
        "\n",
        "        #conv2\n",
        "        self.conv2 = nn.Conv2d(in_channels=16, out_channels=32, kernel_size=5, stride=1, padding=2)\n",
        "        self.relu2 = nn.PReLU()\n",
        "        #Maxpool2\n",
        "        self.maxpool2 = nn.MaxPool2d(kernel_size=2)\n",
        "\n",
        "        #FC layer           #calculated using output formula for conv and pool\n",
        "                        #channel h *w\n",
        "        self.fc1 = nn.Linear(32 * 7 * 7, 10)\n",
        "        #forward pass\n",
        "\n",
        "    def forward(self, x):\n",
        "        \n",
        "        #conv1\n",
        "        out = self.conv1(x)\n",
        "        out = self.relu1(out)\n",
        "\n",
        "        #Maxpool1\n",
        "        out = self.maxpool1(out)\n",
        "       \n",
        "        #conv2\n",
        "        out = self.conv2(out)\n",
        "        out = self.relu2(out)\n",
        "\n",
        "        #maxpool2\n",
        "        out = self.maxpool2(out)\n",
        "        \n",
        "        out = out.view(out.size(0), -1)\n",
        "        \n",
        "        #Linear function\n",
        "        out = self.fc1(out)\n",
        "\n",
        "        return out\n",
        "\n"
      ],
      "metadata": {
        "id": "9WmZXIAHcWwE"
      },
      "execution_count": 34,
      "outputs": []
    },
    {
      "cell_type": "code",
      "source": [
        ""
      ],
      "metadata": {
        "id": "9jQ-1UkerBwC"
      },
      "execution_count": 34,
      "outputs": []
    },
    {
      "cell_type": "markdown",
      "source": [
        "# Step 4: Instantialte Model Class"
      ],
      "metadata": {
        "id": "sbtNlbhqtHn_"
      }
    },
    {
      "cell_type": "code",
      "source": [
        "model = CustomCNN()\n",
        "# device = torch.device(\"cuda\" if torch.cuda.is_available() else \"cpu\")\n",
        "# model = CustomCNN().to(device)\n",
        "# summary(model, (1,28,28))"
      ],
      "metadata": {
        "id": "cvS5LNXGtHVF"
      },
      "execution_count": 35,
      "outputs": []
    },
    {
      "cell_type": "markdown",
      "source": [
        "# Step 5: Instantialte Loss Class\n",
        "\n",
        "\n",
        "*   Feedforward Neural Network: Cross Entropy Loss\n",
        "*   Logistic Regression: Cross Entropy Loss\n",
        "* Linear Regression: MSE\n",
        "\n"
      ],
      "metadata": {
        "id": "MFKBXo4quLRN"
      }
    },
    {
      "cell_type": "code",
      "source": [
        "#cross entropy loss\n",
        "criterion = nn.CrossEntropyLoss()"
      ],
      "metadata": {
        "id": "I50ynahmuPzV"
      },
      "execution_count": 36,
      "outputs": []
    },
    {
      "cell_type": "markdown",
      "source": [
        "# Step 6: Instantialte Optimizer Class"
      ],
      "metadata": {
        "id": "L4kOQXAtvIyr"
      }
    },
    {
      "cell_type": "code",
      "source": [
        "#optimizer\n",
        "lr = 0.01\n",
        "optimizer = optim.SGD(model.parameters(), lr=lr)"
      ],
      "metadata": {
        "id": "1sdy10A1vFmr"
      },
      "execution_count": 37,
      "outputs": []
    },
    {
      "cell_type": "code",
      "source": [
        "print(model.parameters())\n",
        "\n",
        "print(len(list(model.parameters())))\n",
        "\n",
        "# Convolution 1: 16 Kernels\n",
        "print(list(model.parameters())[0].size())\n",
        "\n",
        "# Convolution 1 Bias: 16 Kernels\n",
        "print(list(model.parameters())[1].size())\n",
        "\n",
        "# Convolution 2: 32 Kernels with depth = 16\n",
        "print(list(model.parameters())[2].size())\n",
        "\n",
        "# Convolution 2 Bias: 32 Kernels with depth = 16\n",
        "print(list(model.parameters())[3].size())\n",
        "\n",
        "# Fully Connected Layer 1\n",
        "print(list(model.parameters())[4].size())\n",
        "\n",
        "# Fully Connected Layer Bias\n",
        "print(list(model.parameters())[5].size())"
      ],
      "metadata": {
        "colab": {
          "base_uri": "https://localhost:8080/"
        },
        "id": "l8N43xMev6jl",
        "outputId": "9cdb8749-fb2f-4c09-c8cc-7809b50bba0a"
      },
      "execution_count": 38,
      "outputs": [
        {
          "output_type": "stream",
          "name": "stdout",
          "text": [
            "<generator object Module.parameters at 0x7fc468aaee50>\n",
            "8\n",
            "torch.Size([16, 1, 5, 5])\n",
            "torch.Size([16])\n",
            "torch.Size([1])\n",
            "torch.Size([32, 16, 5, 5])\n",
            "torch.Size([32])\n",
            "torch.Size([1])\n"
          ]
        }
      ]
    },
    {
      "cell_type": "markdown",
      "source": [
        "#Step 7: Train the Model"
      ],
      "metadata": {
        "id": "MuErhU_Rw_Er"
      }
    },
    {
      "cell_type": "code",
      "source": [
        "iter = 0\n",
        "loss_list = []\n",
        "iteration_list = []\n",
        "accuracy_list = []\n",
        "for epoch in range(num_epochs):\n",
        "    for i, (images,labels) in enumerate(train_loader):\n",
        "        #load images\n",
        "        images = images.requires_grad_()\n",
        "\n",
        "        #clear grads w.r.t. params\n",
        "        optimizer.zero_grad()\n",
        "\n",
        "        #Forward pass to get output/logits\n",
        "        outputs = model(images)\n",
        "\n",
        "        #calculate loss: softmax --> cross entropy loss\n",
        "        loss = criterion(outputs, labels)\n",
        "\n",
        "        #back pass\n",
        "        loss.backward()\n",
        "        \n",
        "        #update param\n",
        "        optimizer.step()\n",
        "\n",
        "        iter += 1\n",
        "        \n",
        "        if iter % 50 == 0:\n",
        "            #calc accuracy\n",
        "            correct = 0\n",
        "            total = 0\n",
        "            #iterate test data\n",
        "            for images,labels in test_loader:\n",
        "                images = images.requires_grad_()\n",
        "                outputs = model(images)\n",
        "                #get predictions from the max val\n",
        "                _, predicted = torch.max(outputs.data, 1)\n",
        "\n",
        "                #total labels\n",
        "                total += labels.size(0)\n",
        "\n",
        "                #total correct predictions\n",
        "                correct += (predicted == labels).sum()\n",
        "            \n",
        "            acc = 100 * (correct / total)\n",
        "            # store loss and iteration\n",
        "            loss_list.append(loss.data)\n",
        "            iteration_list.append(iter)\n",
        "            accuracy_list.append(acc)\n",
        "        if iter % 500 == 0:\n",
        "            # Print Loss\n",
        "            print('Iteration: {}. Loss: {}. Accuracy: {}'.format(iter, loss.item(), acc))\n",
        "\n"
      ],
      "metadata": {
        "colab": {
          "base_uri": "https://localhost:8080/"
        },
        "id": "EsOq2VQDxDBI",
        "outputId": "87aeb3a2-67fc-4657-c8ab-036e3074d59a"
      },
      "execution_count": 39,
      "outputs": [
        {
          "output_type": "stream",
          "name": "stdout",
          "text": [
            "Iteration: 500. Loss: 0.4334978461265564. Accuracy: 89.70000457763672\n",
            "Iteration: 1000. Loss: 0.21752119064331055. Accuracy: 92.87999725341797\n",
            "Iteration: 1500. Loss: 0.41986900568008423. Accuracy: 94.45999908447266\n",
            "Iteration: 2000. Loss: 0.1281280815601349. Accuracy: 95.67000579833984\n",
            "Iteration: 2500. Loss: 0.11578966677188873. Accuracy: 96.3800048828125\n",
            "Iteration: 3000. Loss: 0.17927679419517517. Accuracy: 96.83999633789062\n",
            "Iteration: 3500. Loss: 0.04082271084189415. Accuracy: 97.0999984741211\n",
            "Iteration: 4000. Loss: 0.028964316472411156. Accuracy: 97.22000122070312\n",
            "Iteration: 4500. Loss: 0.01623312197625637. Accuracy: 97.27999877929688\n",
            "Iteration: 5000. Loss: 0.2805522680282593. Accuracy: 97.69999694824219\n"
          ]
        }
      ]
    },
    {
      "cell_type": "code",
      "source": [
        "import matplotlib.pyplot as plt\n",
        "# visualization loss \n",
        "plt.plot(iteration_list,loss_list)\n",
        "plt.xlabel(\"Number of iteration\")\n",
        "plt.ylabel(\"Loss\")\n",
        "plt.title(\"CNN: Loss vs Number of iteration\")\n",
        "plt.show()\n",
        "\n",
        "# visualization accuracy \n",
        "plt.plot(iteration_list,accuracy_list,color = \"red\")\n",
        "plt.xlabel(\"Number of iteration\")\n",
        "plt.ylabel(\"Accuracy\")\n",
        "plt.title(\"CNN: Accuracy vs Number of iteration\")\n",
        "plt.show()"
      ],
      "metadata": {
        "colab": {
          "base_uri": "https://localhost:8080/",
          "height": 573
        },
        "id": "yW7MLgHqCTiG",
        "outputId": "01e4c574-6f77-4abf-85b8-4ee6b79e272b"
      },
      "execution_count": 40,
      "outputs": [
        {
          "output_type": "display_data",
          "data": {
            "image/png": "[encoded data removed]",
            "text/plain": [
              "<Figure size 432x288 with 1 Axes>"
            ]
          },
          "metadata": {
            "needs_background": "light"
          }
        },
        {
          "output_type": "display_data",
          "data": {
            "image/png": "[encoded data removed]",
            "text/plain": [
              "<Figure size 432x288 with 1 Axes>"
            ]
          },
          "metadata": {
            "needs_background": "light"
          }
        }
      ]
    }
  ]
}